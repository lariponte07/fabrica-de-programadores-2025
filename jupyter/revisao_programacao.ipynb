{
 "cells": [
  {
   "cell_type": "markdown",
   "metadata": {},
   "source": [
    "# Revisão de Programação em Python\n",
    "## Alunos da Rede Pública Municipal de Santana de Parnaíba inscritos na Fábrica de Programadores!\n",
    "\n",
    "Neste notebook, vamos revisar os conceitos aprendidos:\n",
    "- Variáveis e tipos básicos\n",
    "- Listas\n",
    "- Estruturas condicionais (if, else)\n",
    "- Loops (while, for)\n",
    "- Lógica básica de programação"
   ]
  },
  {
   "cell_type": "markdown",
   "metadata": {},
   "source": [
    "## Exercício 1: Variáveis e Tipos Básicos"
   ]
  },
  {
   "cell_type": "code",
   "execution_count": 10,
   "metadata": {},
   "outputs": [
    {
     "name": "stdout",
     "output_type": "stream",
     "text": [
      "Larissa tem 17 anos, 1.64 de altura e gosta de programar True.\n"
     ]
    }
   ],
   "source": [
    "# 1. Crie variáveis para armazenar:\n",
    "#    - Seu nome (string)\n",
    "#    - Sua idade (int)\n",
    "#    - Sua altura em metros (float)\n",
    "#    - Se você gosta de programar (boolean)\n",
    "# Depois, imprima cada uma dessas variáveis\n",
    "\n",
    "nome= \"Larissa\"\n",
    "idade= 17\n",
    "altura= float (1.64)\n",
    "programar= True\n",
    "print(\"%s tem %d anos, %.2f de altura e gosta de programar %s.\" % (nome, idade,altura,programar))\n"
   ]
  },
  {
   "cell_type": "markdown",
   "metadata": {},
   "source": [
    "## Exercício 2: Operações com Listas"
   ]
  },
  {
   "cell_type": "code",
   "execution_count": 22,
   "metadata": {},
   "outputs": [
    {
     "name": "stdout",
     "output_type": "stream",
     "text": [
      "['morango', 'banana', 'uva', 'laranja', 'mamão']\n",
      "['morango', 'banana', 'uva', 'laranja', 'mamão', 'goiaba']\n",
      "['morango', 'uva', 'laranja', 'mamão', 'goiaba']\n",
      "laranja\n"
     ]
    }
   ],
   "source": [
    "# 2. Crie uma lista chamada 'frutas' com 5 frutas diferentes\n",
    "#    - Adicione uma nova fruta no final da lista\n",
    "#    - Remova a segunda fruta da lista\n",
    "#    - Imprima a lista resultante\n",
    "#    - Imprima apenas a terceira fruta da lista\n",
    "\n",
    "frutas= [\"morango\",\"banana\",\"uva\",\"laranja\",\"mamão\"]\n",
    "print(frutas)\n",
    "frutas.append (\"goiaba\")\n",
    "print(frutas)\n",
    "frutas.pop(1)\n",
    "print(frutas)\n",
    "print (frutas[2])"
   ]
  },
  {
   "cell_type": "markdown",
   "metadata": {},
   "source": [
    "## Exercício 3: Estruturas Condicionais (if, else)"
   ]
  },
  {
   "cell_type": "code",
   "execution_count": 25,
   "metadata": {},
   "outputs": [
    {
     "name": "stdout",
     "output_type": "stream",
     "text": [
      "O número digitado é positivo.\n"
     ]
    }
   ],
   "source": [
    "# 3. Crie um programa que verifica se um número é positivo, negativo ou zero\n",
    "#    - Peça para o usuário digitar um número\n",
    "#    - Use if, elif e else para verificar o número\n",
    "#    - Imprima o resultado\n",
    "\n",
    "num1= int(input(\"Digite um número: \"))\n",
    "if num1<=-1:\n",
    "    print(\"O número digitado é negativo.\")\n",
    "    \n",
    "elif num1>=1:\n",
    "    print(\"O número digitado é positivo.\")\n",
    "else:\n",
    "    print(\"O número digitado é igual a zero.\")\n"
   ]
  },
  {
   "cell_type": "markdown",
   "metadata": {},
   "source": [
    "## Exercício 4: Loop While"
   ]
  },
  {
   "cell_type": "code",
   "execution_count": 44,
   "metadata": {},
   "outputs": [
    {
     "name": "stdout",
     "output_type": "stream",
     "text": [
      "5\n",
      "4\n",
      "3\n",
      "2\n",
      "1\n",
      "Fogo!\n"
     ]
    }
   ],
   "source": [
    "# 4. Crie um contador regressivo de 5 até 1 usando while\n",
    "#    - A cada iteração, imprima o número atual\n",
    "#    - Quando chegar a 1, imprima \"Fogo!\"\n",
    "\n",
    "x=5\n",
    "while x>0:\n",
    "    print(x)\n",
    "    x= x-1\n",
    "print(\"Fogo!\")"
   ]
  },
  {
   "cell_type": "markdown",
   "metadata": {},
   "source": [
    "## Exercício 5: Loop For"
   ]
  },
  {
   "cell_type": "code",
   "execution_count": 4,
   "metadata": {},
   "outputs": [
    {
     "name": "stdout",
     "output_type": "stream",
     "text": [
      "A média das notas é: 6.6\n"
     ]
    }
   ],
   "source": [
    "# 5. Crie um programa que calcula a média de 5 notas usando for\n",
    "#    - Peça para o usuário digitar 5 notas\n",
    "#    - Use um loop for para somar as notas\n",
    "#    - Calcule e imprima a média\n",
    "\n",
    "soma = 0\n",
    "for i in range(1,6):\n",
    "    nota=float(input(\"Digite a nota:\"))\n",
    "    soma+=nota\n",
    "media=soma/5\n",
    "print(\"A média das notas é:\",media)"
   ]
  },
  {
   "cell_type": "markdown",
   "metadata": {},
   "source": [
    "## Exercício 6: Listas e Loops"
   ]
  },
  {
   "cell_type": "code",
   "execution_count": 3,
   "metadata": {},
   "outputs": [
    {
     "name": "stdout",
     "output_type": "stream",
     "text": [
      "2\n",
      "4\n",
      "6\n",
      "8\n",
      "10\n",
      "[1, 3, 5, 7, 9]\n"
     ]
    }
   ],
   "source": [
    "# 6. Crie uma lista de números de 1 a 10\n",
    "#    - Use um loop for para imprimir apenas os números pares\n",
    "#    - Depois, crie uma nova lista com os números ímpares\n",
    "#    - Imprima a lista de ímpares\n",
    "\n",
    "num=[1,2,3,4,5,6,7,8,9,10]\n",
    "for n in num:\n",
    "    if n % 2 == 0:\n",
    "        print(n)\n",
    "\n",
    "num2=[1,3,5,7,9,]\n",
    "print(num2)"
   ]
  },
  {
   "cell_type": "markdown",
   "metadata": {},
   "source": [
    "## Exercício 7: Jogo de Adivinhação"
   ]
  },
  {
   "cell_type": "code",
   "execution_count": null,
   "metadata": {},
   "outputs": [
    {
     "name": "stdout",
     "output_type": "stream",
     "text": [
      "O número secreto é maior que o número digitado. Tente novamente\n",
      "O número secreto é maior que o número digitado. Tente novamente\n",
      "O número secreto é menor que o número digitado. Tente novamente\n"
     ]
    }
   ],
   "source": [
    "# 7. Crie um jogo de adivinhação onde:\n",
    "#    - O computador escolhe um número aleatório entre 1 e 10\n",
    "#    - O jogador tem 3 tentativas para adivinhar o número\n",
    "#    - A cada tentativa, diga se o palpite é maior ou menor que o número secreto\n",
    "#    - Se acertar, imprima \"Parabéns!\" e encerre o jogo\n",
    "#    - Se errar todas as tentativas, imprima o número correto\n",
    "\n",
    "import random\n",
    "\n",
    "num_aleatorio = random.randint(1,10)\n",
    "x=1\n",
    "while x <= 3:\n",
    "    n= int(input(\"Digite um número de 1 a 10: \"))\n",
    "    if n == num_aleatorio:\n",
    "        print(\"Parabéns! O número secreto era: \",num_aleatorio)\n",
    "\n",
    "    elif num_aleatorio > n:\n",
    "        print(\"O número secreto é maior que o número digitado. Tente novamente\")\n",
    "    elif num_aleatorio < n:\n",
    "        print(\"O número secreto é menor que o número digitado. Tente novamente\")\n",
    "    else:\n",
    "        print(\"As tentativas esgotaram. O número secreto era:\",num_aleatorio)\n",
    "    x = x + 1"
   ]
  },
  {
   "cell_type": "markdown",
   "metadata": {},
   "source": [
    "## Exercício 8: Desafio Final"
   ]
  },
  {
   "cell_type": "code",
   "execution_count": null,
   "metadata": {},
   "outputs": [
    {
     "ename": "SyntaxError",
     "evalue": "invalid syntax. Perhaps you forgot a comma? (812209084.py, line 44)",
     "output_type": "error",
     "traceback": [
      "  \u001b[36mCell\u001b[39m\u001b[36m \u001b[39m\u001b[32mIn[7]\u001b[39m\u001b[32m, line 44\u001b[39m\n\u001b[31m    \u001b[39m\u001b[31mprint(\"tem\" idade,\"anos, pesa\" peso,\"kgs, tem\" altura,\"de altura, e seu IMC é:\" imc,\". Então a classificação de\" nome, \"é:\" classificacao)\u001b[39m\n          ^\n\u001b[31mSyntaxError\u001b[39m\u001b[31m:\u001b[39m invalid syntax. Perhaps you forgot a comma?\n"
     ]
    }
   ],
   "source": [
    "# 8. Crie um programa que:\n",
    "#    - Pede para o usuário digitar o seu próprio peso em Kgs.\n",
    "#    - Depois, pede ao usuário que digite sua altura em metros.\n",
    "#    - Em terceiro, pede ao usuário que digite seu nome e idade.\n",
    "#    - Adiciona os dados digitados ao final de uma lista.\n",
    "#    - Calcule o índice de massa corpórea (IMC) do indivíduo de acordo com a fórmula do IMC pesquisada.    \n",
    "#    - Após calcular, registre: Classificação do IMC de acordo com a OMS:\n",
    "#    - < 16         Magreza grau III\n",
    "#    - 16 a 16,9    Magreza grau II\n",
    "#    - 17 a 18,4    Magreza grau III\n",
    "#    - 18,5 a 24,9  Eutrofia\n",
    "#    - 25 a 29,9    Pré-obesidade\n",
    "#    - 30 a 34,9    Obesidade moderada (grau I)\n",
    "#    - 35 a 39,9    Obesidade severa (grau II)\n",
    "#    - >= 40        Obesidade muito severa (grau III)\n",
    "#    - Finalmente, em ordem alfabética, exiba todos os itens da lista ao lado de seus dados, seu IMC e sua respectiva classificação.\n",
    "\n",
    "dados = []\n",
    "\n",
    "peso = float(input(\"Digite seu peso em kgs: \"))\n",
    "altura = float(input(\"Digite sua altura em metros:\"))\n",
    "nome = input(\"Digite seu nome: \")\n",
    "idade = int(input(\"Digite sua idade:\"))\n",
    "imc = peso / (altura*altura)\n",
    "\n",
    "if imc < 16:\n",
    "    classificacao = \"Magreza grau 3\"\n",
    "elif imc >= 16 and imc < 17:\n",
    "    classificacao = \"Magreza grau 2\"\n",
    "elif imc >= 17 and imc < 18.5:\n",
    "    classificacao = \"Magreza grau 1\"\n",
    "elif imc >= 18.5 and imc < 25:\n",
    "    classificacao = \"Eutrofia\"\n",
    "elif imc >= 25 and imc < 30:\n",
    "    classificacao = \"Pré-obesidade\"\n",
    "elif imc >= 30 and imc < 35:\n",
    "    classifcacao = \"Obesidade moderada (grau 1)\"\n",
    "elif imc >= 35 and imc < 40:\n",
    "    classificacao = \"Obesidade severa (grau 2)\"\n",
    "else:\n",
    "    classificacao = \"Obesidade muito severa (grau 3)\"\n",
    "dados.append([nome,idade,peso,altura,imc,classificacao])\n",
    "for pessoa in dados:\n",
    "    print(nome, \"tem\" idade,\"anos, pesa\" peso,\"kgs, tem\" altura,\"de altura, e seu IMC é:\" imc,\". Então a classificação de\" nome, \"é:\" classificacao)   "
   ]
  },
  {
   "cell_type": "markdown",
   "metadata": {},
   "source": [
    "## Parabéns por completar os exercícios! 🥳\n",
    "### Continue praticando e explorando os conceitos de programação."
   ]
  }
 ],
 "metadata": {
  "kernelspec": {
   "display_name": ".venv",
   "language": "python",
   "name": "python3"
  },
  "language_info": {
   "codemirror_mode": {
    "name": "ipython",
    "version": 3
   },
   "file_extension": ".py",
   "mimetype": "text/x-python",
   "name": "python",
   "nbconvert_exporter": "python",
   "pygments_lexer": "ipython3",
   "version": "3.13.2"
  }
 },
 "nbformat": 4,
 "nbformat_minor": 4
}
